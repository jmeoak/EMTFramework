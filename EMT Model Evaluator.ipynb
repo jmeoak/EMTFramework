{
 "cells": [
  {
   "cell_type": "markdown",
   "id": "afb0bea7-797c-4715-8298-3ce2b02d3d2e",
   "metadata": {},
   "source": [
    "# EMT Model Evaluator\n",
    "### Author: Joel Meoak\n",
    "### This notebook is used to evaluate the trained models against the ember dataset and output standard ML metrics. While the standard metrics are important, it is also vital to avoid overfitting to the EMBER data as the final evaluation will be against malware "
   ]
  },
  {
   "cell_type": "code",
   "execution_count": 2,
   "id": "e58502e3-21f9-466c-8b56-569092f29906",
   "metadata": {},
   "outputs": [],
   "source": [
    "import ember\n",
    "from joblib import dump, load\n",
    "\n",
    "import pandas as pd\n",
    "import numpy as np\n",
    "\n",
    "from sklearn.metrics import classification_report, confusion_matrix, accuracy_score, recall_score, f1_score, precision_score"
   ]
  },
  {
   "cell_type": "markdown",
   "id": "8a13e8ca-7760-4d26-82e8-ec05ccd25501",
   "metadata": {},
   "source": [
    "## Import Testing Data"
   ]
  },
  {
   "cell_type": "code",
   "execution_count": 3,
   "id": "905b17f2-639f-4538-962b-79d17667d159",
   "metadata": {},
   "outputs": [
    {
     "name": "stdout",
     "output_type": "stream",
     "text": [
      "WARNING: EMBER feature version 2 were computed using lief version 0.9.0-\n",
      "WARNING:   lief version 0.14.1-bae887e0 found instead. There may be slight inconsistencies\n",
      "WARNING:   in the feature calculations.\n"
     ]
    }
   ],
   "source": [
    "X_train, y_train, X_test, y_test = ember.read_vectorized_features(r\"C:\\Users\\joelm\\anaconda3\\A_Working\\ember2018\\ember2018\")\n",
    "metadata_dataframe = ember.read_metadata(r\"C:\\Users\\joelm\\anaconda3\\A_Working\\ember2018\\ember2018\")"
   ]
  },
  {
   "cell_type": "markdown",
   "id": "22e579f3-98fe-48e8-a339-9a05fa1e4be0",
   "metadata": {},
   "source": [
    "Changes X_test and y_test to pandas df and creates a new version of x that includes only dlls. Feature number 619 is number of exports and number of exports = 0 means that it is a exe, and exports > 0 indicates its a dll. "
   ]
  },
  {
   "cell_type": "code",
   "execution_count": 4,
   "id": "92f5d51d-301d-436b-b39c-39d29084e48e",
   "metadata": {},
   "outputs": [],
   "source": [
    "X_test_pd = pd.DataFrame(data=X_test, copy=True)\n",
    "y_test_pd = pd.DataFrame(data=y_test, copy=True)\n",
    "mask = X_test_pd[619] != 0\n",
    "X_test_dlls = X_test_pd[mask]"
   ]
  },
  {
   "cell_type": "markdown",
   "id": "f600a75f-128a-44b1-b753-641ab68aa180",
   "metadata": {
    "jp-MarkdownHeadingCollapsed": true
   },
   "source": [
    "# Traditional Models"
   ]
  },
  {
   "cell_type": "markdown",
   "id": "980a1dc2-3e36-4722-ab25-2961a5b4017d",
   "metadata": {},
   "source": [
    "## Light BGM Model\n",
    "This model was created by the EMBER Dataset Authors as a benchmark to compare against other models\n",
    "\n",
    "The Light BGM model provides a likelihood score between 0 and 1. Using different rounding criteria will adjust the precision to recall balance. "
   ]
  },
  {
   "cell_type": "code",
   "execution_count": 142,
   "id": "6ca51343-e11b-4e0d-999d-6b5dc80adc27",
   "metadata": {},
   "outputs": [],
   "source": [
    "lgbm_model = load('lgbm.joblib')"
   ]
  },
  {
   "cell_type": "code",
   "execution_count": 143,
   "id": "9d410c9e-5158-4f29-a971-f362ea3f30d9",
   "metadata": {},
   "outputs": [],
   "source": [
    "lgbm_pred = lgbm_model.predict(X_test)"
   ]
  },
  {
   "cell_type": "code",
   "execution_count": 144,
   "id": "114ee2ac-835e-40ed-aa95-bdc96773e77b",
   "metadata": {},
   "outputs": [],
   "source": [
    "lgbm_pred_rounded = np.where(lgbm_pred >= 0.9, 1, 0)"
   ]
  },
  {
   "cell_type": "code",
   "execution_count": 145,
   "id": "d8b24b43-f11e-48d0-ac3c-6747a83dc4a2",
   "metadata": {},
   "outputs": [
    {
     "name": "stdout",
     "output_type": "stream",
     "text": [
      "LGBM Benchmark Total Test\n",
      "Accuracy Score: 0.976475\n",
      "Precision Score: 0.9913886453875109\n",
      "Recall Score: 0.9613\n",
      "F1 Score: 0.9761125072982509\n",
      "--------------------------------------------------------------------\n",
      "[[99165   835]\n",
      " [ 3870 96130]]\n",
      "--------------------------------------------------------------------\n",
      "FPR:  0.00835\n",
      "FNR:  0.0387\n",
      "--------------------------------------------------------------------\n"
     ]
    }
   ],
   "source": [
    "print('LGBM Benchmark Total Test')\n",
    "print(\"Accuracy Score:\", accuracy_score(y_test, lgbm_pred_rounded))\n",
    "print(\"Precision Score:\", precision_score(y_test, lgbm_pred_rounded))\n",
    "print(\"Recall Score:\",recall_score(y_test, lgbm_pred_rounded))\n",
    "print(\"F1 Score:\",f1_score(y_test, lgbm_pred_rounded))\n",
    "print(68 * '-')\n",
    "print(confusion_matrix(y_test, lgbm_pred_rounded))\n",
    "print(68 * '-')\n",
    "fpr = ((y_test == 0) & (lgbm_pred_rounded == 1)).sum() / (y_test == 0).sum()\n",
    "print(\"FPR: \", fpr)\n",
    "fnr = ((y_test == 1) & (lgbm_pred_rounded == 0)).sum() / (y_test == 1).sum()\n",
    "print(\"FNR: \", fnr)\n",
    "print(68 * '-')"
   ]
  },
  {
   "cell_type": "code",
   "execution_count": 146,
   "id": "33249903-5580-4b5c-91de-1e007a8baef8",
   "metadata": {},
   "outputs": [],
   "source": [
    "lgbm_pred = lgbm_model.predict(X_test_dlls)"
   ]
  },
  {
   "cell_type": "code",
   "execution_count": 147,
   "id": "923ba5b4-431b-4ff7-8d70-6ae4d58f1c2e",
   "metadata": {},
   "outputs": [],
   "source": [
    "lgbm_pred_rounded = np.where(lgbm_pred >= 0.9, 1, 0)"
   ]
  },
  {
   "cell_type": "code",
   "execution_count": 149,
   "id": "f99e4b8c-6cbc-4bae-a85a-b39e9ac310b4",
   "metadata": {},
   "outputs": [
    {
     "name": "stdout",
     "output_type": "stream",
     "text": [
      "LGBM DLL Test\n",
      "Accuracy Score: 0.9645437516724645\n",
      "Precision Score: 0.9895376307796152\n",
      "Recall Score: 0.8888888888888888\n",
      "F1 Score: 0.9365168090713087\n",
      "--------------------------------------------------------------------\n",
      "[[15763    62]\n",
      " [  733  5864]]\n",
      "--------------------------------------------------------------------\n",
      "FPR:  0.0039178515007898896\n",
      "FNR:  0.1111111111111111\n",
      "--------------------------------------------------------------------\n"
     ]
    }
   ],
   "source": [
    "print('LGBM DLL Test')\n",
    "print(\"Accuracy Score:\", accuracy_score(y_test_pd[mask], lgbm_pred_rounded))\n",
    "print(\"Precision Score:\", precision_score(y_test_pd[mask], lgbm_pred_rounded))\n",
    "print(\"Recall Score:\",recall_score(y_test_pd[mask], lgbm_pred_rounded))\n",
    "print(\"F1 Score:\",f1_score(y_test_pd[mask], lgbm_pred_rounded))\n",
    "print(68 * '-')\n",
    "print(confusion_matrix(y_test[mask], lgbm_pred_rounded))\n",
    "print(68 * '-')\n",
    "y_Series = pd.Series(np.array(y_test_pd[mask][0]))\n",
    "fpr = ((y_Series == 0) & (lgbm_pred_rounded == 1)).sum() / (y_Series == 0).sum()\n",
    "print(\"FPR: \", fpr)\n",
    "fnr = ((y_Series == 1) & (lgbm_pred_rounded == 0)).sum() / (y_Series == 1).sum()\n",
    "print(\"FNR: \", fnr)\n",
    "print(68 * '-')"
   ]
  },
  {
   "cell_type": "markdown",
   "id": "aba466af-6c61-4e80-b507-99379aa733ec",
   "metadata": {
    "jp-MarkdownHeadingCollapsed": true
   },
   "source": [
    "## Sklearn Decision Tree Classifier"
   ]
  },
  {
   "cell_type": "code",
   "execution_count": 150,
   "id": "b641f6b7-53d3-4c17-b065-02baadb0595d",
   "metadata": {},
   "outputs": [
    {
     "name": "stdout",
     "output_type": "stream",
     "text": [
      "--------------------------------------------------------------------\n",
      "TR1 Total Test\n",
      "Accuracy Score: 0.918685\n",
      "Precision Score: 0.9202525419815913\n",
      "Recall Score: 0.91682\n",
      "F1 Score: 0.9185330641646671\n",
      "--------------------------------------------------------------------\n",
      "[[92055  7945]\n",
      " [ 8318 91682]]\n",
      "--------------------------------------------------------------------\n",
      "FPR:  0.07945\n",
      "FNR:  0.08318\n",
      "--------------------------------------------------------------------\n"
     ]
    }
   ],
   "source": [
    "tr1 = load('tree_basic_25Apr.joblib')\n",
    "tr1_pred = tr1.predict(X_test)\n",
    "print(68 * '-')\n",
    "print('TR1 Total Test')\n",
    "print(\"Accuracy Score:\", accuracy_score(y_test, tr1_pred))\n",
    "print(\"Precision Score:\", precision_score(y_test, tr1_pred))\n",
    "print(\"Recall Score:\",recall_score(y_test, tr1_pred))\n",
    "print(\"F1 Score:\",f1_score(y_test, tr1_pred))\n",
    "print(68 * '-')\n",
    "print(confusion_matrix(y_test, tr1_pred))\n",
    "print(68 * '-')\n",
    "fpr = ((y_test == 0) & (tr1_pred == 1)).sum() / (y_test == 0).sum()\n",
    "print(\"FPR: \", fpr)\n",
    "fnr = ((y_test == 1) & (tr1_pred == 0)).sum() / (y_test == 1).sum()\n",
    "print(\"FNR: \", fnr)\n",
    "print(68 * '-')"
   ]
  },
  {
   "cell_type": "code",
   "execution_count": 151,
   "id": "1f8a259f-7bb5-4f66-8fec-98e1721c7d57",
   "metadata": {},
   "outputs": [
    {
     "name": "stdout",
     "output_type": "stream",
     "text": [
      "--------------------------------------------------------------------\n",
      "TR1 DLL Only Test\n",
      "Accuracy Score: 0.9191419141914191\n",
      "Precision Score: 0.8751568381430364\n",
      "Recall Score: 0.8458390177353342\n",
      "F1 Score: 0.8602482078162337\n",
      "--------------------------------------------------------------------\n",
      "[[15029   796]\n",
      " [ 1017  5580]]\n",
      "--------------------------------------------------------------------\n",
      "FPR:  0.0503001579778831\n",
      "FNR:  0.15416098226466576\n",
      "--------------------------------------------------------------------\n"
     ]
    }
   ],
   "source": [
    "tr1 = load('tree_basic_25Apr.joblib')\n",
    "predX = X_test_pd[mask]\n",
    "tr1_pred = tr1.predict(predX)\n",
    "print(68 * '-')\n",
    "print('TR1 DLL Only Test')\n",
    "print(\"Accuracy Score:\", accuracy_score(y_test_pd[mask], tr1_pred))\n",
    "print(\"Precision Score:\", precision_score(y_test_pd[mask], tr1_pred))\n",
    "print(\"Recall Score:\",recall_score(y_test_pd[mask], tr1_pred))\n",
    "print(\"F1 Score:\",f1_score(y_test_pd[mask], tr1_pred))\n",
    "print(68 * '-')\n",
    "print(confusion_matrix(y_test[mask], tr1_pred))\n",
    "print(68 * '-')\n",
    "y_Series = pd.Series(np.array(y_test_pd[mask][0]))\n",
    "fpr = ((y_Series == 0) & (tr1_pred == 1)).sum() / (y_Series == 0).sum()\n",
    "print(\"FPR: \", fpr)\n",
    "fnr = ((y_Series == 1) & (tr1_pred == 0)).sum() / (y_Series == 1).sum()\n",
    "print(\"FNR: \", fnr)\n",
    "print(68 * '-')"
   ]
  },
  {
   "cell_type": "markdown",
   "id": "ae657659-66e4-4d4b-90b2-ba4a9228efba",
   "metadata": {
    "jp-MarkdownHeadingCollapsed": true
   },
   "source": [
    "## Sklearn Random Forrest Classifier"
   ]
  },
  {
   "cell_type": "code",
   "execution_count": 152,
   "id": "c4903d78-ff24-4dbc-8caf-a370e3fa72e9",
   "metadata": {},
   "outputs": [
    {
     "name": "stdout",
     "output_type": "stream",
     "text": [
      "--------------------------------------------------------------------\n",
      "RF9 Basic Test\n",
      "Accuracy Score: 0.953925\n",
      "Precision Score: 0.9587000677048071\n",
      "Recall Score: 0.94872\n",
      "F1 Score: 0.9536839248287335\n",
      "--------------------------------------------------------------------\n",
      "[[95913  4087]\n",
      " [ 5128 94872]]\n",
      "--------------------------------------------------------------------\n",
      "FPR:  0.04087\n",
      "FNR:  0.05128\n",
      "--------------------------------------------------------------------\n"
     ]
    }
   ],
   "source": [
    "rf9 = load('RF_25AprNest25.joblib')\n",
    "rf9_pred = rf9.predict(X_test)\n",
    "print(68 * '-')\n",
    "print('RF9 Basic Test')\n",
    "print(\"Accuracy Score:\", accuracy_score(y_test, rf9_pred))\n",
    "print(\"Precision Score:\", precision_score(y_test, rf9_pred))\n",
    "print(\"Recall Score:\",recall_score(y_test, rf9_pred))\n",
    "print(\"F1 Score:\",f1_score(y_test, rf9_pred))\n",
    "print(68 * '-')\n",
    "print(confusion_matrix(y_test, rf9_pred))\n",
    "print(68 * '-')\n",
    "fpr = ((y_test == 0) & (rf9_pred == 1)).sum() / (y_test == 0).sum()\n",
    "print(\"FPR: \", fpr)\n",
    "fnr = ((y_test == 1) & (rf9_pred == 0)).sum() / (y_test == 1).sum()\n",
    "print(\"FNR: \", fnr)\n",
    "print(68 * '-')"
   ]
  },
  {
   "cell_type": "code",
   "execution_count": 153,
   "id": "40681748-f50b-42c1-b2c4-9b74c72643d7",
   "metadata": {},
   "outputs": [
    {
     "name": "stdout",
     "output_type": "stream",
     "text": [
      "RF9 DLL Test\n",
      "Accuracy Score: 0.9442957809294443\n",
      "Precision Score: 0.9456666666666667\n",
      "Recall Score: 0.8600879187509474\n",
      "F1 Score: 0.9008494085893467\n",
      "--------------------------------------------------------------------\n",
      "[[15499   326]\n",
      " [  923  5674]]\n",
      "--------------------------------------------------------------------\n",
      "FPR:  0.020600315955766193\n",
      "FNR:  0.1399120812490526\n",
      "--------------------------------------------------------------------\n"
     ]
    }
   ],
   "source": [
    "rf9 = load('RF_25AprNest25.joblib')\n",
    "predX = X_test_pd[mask]\n",
    "rf9_pred = rf9.predict(predX)\n",
    "print('RF9 DLL Test')\n",
    "print(\"Accuracy Score:\", accuracy_score(y_test_pd[mask], rf9_pred))\n",
    "print(\"Precision Score:\", precision_score(y_test_pd[mask], rf9_pred))\n",
    "print(\"Recall Score:\",recall_score(y_test_pd[mask], rf9_pred))\n",
    "print(\"F1 Score:\",f1_score(y_test_pd[mask], rf9_pred))\n",
    "print(68 * '-')\n",
    "print(confusion_matrix(y_test[mask], rf9_pred))\n",
    "print(68 * '-')\n",
    "y_Series = pd.Series(np.array(y_test_pd[mask][0]))\n",
    "fpr = ((y_Series == 0) & (rf9_pred == 1)).sum() / (y_Series == 0).sum()\n",
    "print(\"FPR: \", fpr)\n",
    "fnr = ((y_Series == 1) & (rf9_pred == 0)).sum() / (y_Series == 1).sum()\n",
    "print(\"FNR: \", fnr)\n",
    "print(68 * '-')"
   ]
  },
  {
   "cell_type": "code",
   "execution_count": 154,
   "id": "71765de5-a6cc-453f-8154-46110cb812bb",
   "metadata": {},
   "outputs": [
    {
     "name": "stdout",
     "output_type": "stream",
     "text": [
      "--------------------------------------------------------------------\n",
      "RF9 DLL Tuned Total Test \n",
      "Accuracy Score: 0.9519\n",
      "Precision Score: 0.9565937841005537\n",
      "Recall Score: 0.94676\n",
      "F1 Score: 0.9516514886516696\n",
      "--------------------------------------------------------------------\n",
      "[[95704  4296]\n",
      " [ 5324 94676]]\n",
      "--------------------------------------------------------------------\n",
      "FPR:  0.03629\n",
      "FNR:  0.05833\n",
      "--------------------------------------------------------------------\n"
     ]
    }
   ],
   "source": [
    "rf9 = load('RF9_DLLW.joblib')\n",
    "rf9_pred = rf9.predict(X_test)\n",
    "print(68 * '-')\n",
    "print('RF9 DLL Tuned Total Test ')\n",
    "print(\"Accuracy Score:\", accuracy_score(y_test, rf9_pred))\n",
    "print(\"Precision Score:\", precision_score(y_test, rf9_pred))\n",
    "print(\"Recall Score:\",recall_score(y_test, rf9_pred))\n",
    "print(\"F1 Score:\",f1_score(y_test, rf9_pred))\n",
    "print(68 * '-')\n",
    "print(confusion_matrix(y_test, rf9_pred))\n",
    "print(68 * '-')\n",
    "fpr = ((y_test == 0) & (et1_pred == 1)).sum() / (y_test == 0).sum()\n",
    "print(\"FPR: \", fpr)\n",
    "fnr = ((y_test == 1) & (et1_pred == 0)).sum() / (y_test == 1).sum()\n",
    "print(\"FNR: \", fnr)\n",
    "print(68 * '-')"
   ]
  },
  {
   "cell_type": "code",
   "execution_count": 155,
   "id": "605742e7-a599-415a-861a-342b3eb73a26",
   "metadata": {},
   "outputs": [
    {
     "name": "stdout",
     "output_type": "stream",
     "text": [
      "RF9 DLL Tuned DLL Only Test\n",
      "Accuracy Score: 0.9523236107394524\n",
      "Precision Score: 0.9492847854356307\n",
      "Recall Score: 0.8852508716083068\n",
      "F1 Score: 0.9161502862969645\n",
      "--------------------------------------------------------------------\n",
      "[[15513   312]\n",
      " [  757  5840]]\n",
      "--------------------------------------------------------------------\n",
      "FPR:  0.019715639810426542\n",
      "FNR:  0.1147491283916932\n",
      "--------------------------------------------------------------------\n"
     ]
    }
   ],
   "source": [
    "rf9 = load('RF9_DLLW.joblib')\n",
    "predX = X_test_pd[mask]\n",
    "rf9_pred = rf9.predict(predX)\n",
    "print('RF9 DLL Tuned DLL Only Test')\n",
    "print(\"Accuracy Score:\", accuracy_score(y_test_pd[mask], rf9_pred))\n",
    "print(\"Precision Score:\", precision_score(y_test_pd[mask], rf9_pred))\n",
    "print(\"Recall Score:\",recall_score(y_test_pd[mask], rf9_pred))\n",
    "print(\"F1 Score:\",f1_score(y_test_pd[mask], rf9_pred))\n",
    "print(68 * '-')\n",
    "print(confusion_matrix(y_test[mask], rf9_pred))\n",
    "print(68 * '-')\n",
    "y_Series = pd.Series(np.array(y_test_pd[mask][0]))\n",
    "fpr = ((y_Series == 0) & (rf9_pred == 1)).sum() / (y_Series == 0).sum()\n",
    "print(\"FPR: \", fpr)\n",
    "fnr = ((y_Series == 1) & (rf9_pred == 0)).sum() / (y_Series == 1).sum()\n",
    "print(\"FNR: \", fnr)\n",
    "print(68 * '-')"
   ]
  },
  {
   "cell_type": "markdown",
   "id": "417a9823-c670-4827-8d17-c0cfca4bf071",
   "metadata": {
    "jp-MarkdownHeadingCollapsed": true
   },
   "source": [
    "## Sklearn Extremely Random Forest Classifier"
   ]
  },
  {
   "cell_type": "code",
   "execution_count": 156,
   "id": "9e32580a-36c6-421e-90a9-def0fec8b438",
   "metadata": {},
   "outputs": [
    {
     "name": "stdout",
     "output_type": "stream",
     "text": [
      "--------------------------------------------------------------------\n",
      "ET1 Total Test\n",
      "Accuracy Score: 0.954415\n",
      "Precision Score: 0.9641197438437733\n",
      "Recall Score: 0.94396\n",
      "F1 Score: 0.9539333734190967\n",
      "--------------------------------------------------------------------\n",
      "[[96487  3513]\n",
      " [ 5604 94396]]\n",
      "--------------------------------------------------------------------\n",
      "FPR:  0.03513\n",
      "FNR:  0.05604\n",
      "--------------------------------------------------------------------\n"
     ]
    }
   ],
   "source": [
    "et1 = load('ET1.joblib')\n",
    "et1_pred = et1.predict(X_test)\n",
    "print(68 * '-')\n",
    "print('ET1 Total Test')\n",
    "print(\"Accuracy Score:\", accuracy_score(y_test, et1_pred))\n",
    "print(\"Precision Score:\", precision_score(y_test, et1_pred))\n",
    "print(\"Recall Score:\",recall_score(y_test, et1_pred))\n",
    "print(\"F1 Score:\",f1_score(y_test, et1_pred))\n",
    "print(68 * '-')\n",
    "print(confusion_matrix(y_test, et1_pred))\n",
    "print(68 * '-')\n",
    "fpr = ((y_test == 0) & (et1_pred == 1)).sum() / (y_test == 0).sum()\n",
    "print(\"FPR: \", fpr)\n",
    "fnr = ((y_test == 1) & (et1_pred == 0)).sum() / (y_test == 1).sum()\n",
    "print(\"FNR: \", fnr)\n",
    "print(68 * '-')"
   ]
  },
  {
   "cell_type": "code",
   "execution_count": 157,
   "id": "b6fd93c3-1fc8-4c93-a719-aef6c8de4125",
   "metadata": {},
   "outputs": [
    {
     "name": "stdout",
     "output_type": "stream",
     "text": [
      "ET1 DLL Only Test\n",
      "Accuracy Score: 0.9417090357684417\n",
      "Precision Score: 0.952755905511811\n",
      "Recall Score: 0.843716840988328\n",
      "F1 Score: 0.8949272449553822\n",
      "--------------------------------------------------------------------\n",
      "[[15513   312]\n",
      " [  757  5840]]\n",
      "--------------------------------------------------------------------\n",
      "FPR:  0.017440758293838864\n",
      "FNR:  0.15628315901167197\n",
      "--------------------------------------------------------------------\n"
     ]
    }
   ],
   "source": [
    "et1 = load('ET1.joblib')\n",
    "predX = X_test_pd[mask]\n",
    "et1_pred_dll = et1.predict(predX)\n",
    "print('ET1 DLL Only Test')\n",
    "print(\"Accuracy Score:\", accuracy_score(y_test_pd[mask], et1_pred_dll))\n",
    "print(\"Precision Score:\", precision_score(y_test_pd[mask], et1_pred_dll))\n",
    "print(\"Recall Score:\",recall_score(y_test_pd[mask], et1_pred_dll))\n",
    "print(\"F1 Score:\",f1_score(y_test_pd[mask], et1_pred_dll))\n",
    "print(68 * '-')\n",
    "print(confusion_matrix(y_test[mask], rf9_pred))\n",
    "print(68 * '-')\n",
    "y_Series = pd.Series(np.array(y_test_pd[mask][0]))\n",
    "fpr = ((y_Series == 0) & (et1_pred_dll == 1)).sum() / (y_Series == 0).sum()\n",
    "print(\"FPR: \", fpr)\n",
    "fnr = ((y_Series == 1) & (et1_pred_dll == 0)).sum() / (y_Series == 1).sum()\n",
    "print(\"FNR: \", fnr)\n",
    "print(68 * '-')"
   ]
  },
  {
   "cell_type": "code",
   "execution_count": 158,
   "id": "57bb0355-d540-4990-ba3a-3bbd47ffd5f3",
   "metadata": {},
   "outputs": [
    {
     "name": "stdout",
     "output_type": "stream",
     "text": [
      "--------------------------------------------------------------------\n",
      "ET1 DLL Tuned Total Test\n",
      "Accuracy Score: 0.95269\n",
      "Precision Score: 0.9628921428279276\n",
      "Recall Score: 0.94167\n",
      "F1 Score: 0.952162834435479\n",
      "--------------------------------------------------------------------\n",
      "[[96371  3629]\n",
      " [ 5833 94167]]\n",
      "--------------------------------------------------------------------\n",
      "FPR:  0.03629\n",
      "FNR:  0.05833\n",
      "--------------------------------------------------------------------\n"
     ]
    }
   ],
   "source": [
    "et1_dll = load('ET1_DLL.joblib')\n",
    "et1_pred = et1_dll.predict(X_test)\n",
    "print(68 * '-')\n",
    "print('ET1 DLL Tuned Total Test')\n",
    "print(\"Accuracy Score:\", accuracy_score(y_test, et1_pred))\n",
    "print(\"Precision Score:\", precision_score(y_test, et1_pred))\n",
    "print(\"Recall Score:\",recall_score(y_test, et1_pred))\n",
    "print(\"F1 Score:\",f1_score(y_test, et1_pred))\n",
    "print(68 * '-')\n",
    "print(confusion_matrix(y_test, et1_pred))\n",
    "print(68 * '-')\n",
    "fpr = ((y_test == 0) & (et1_pred == 1)).sum() / (y_test == 0).sum()\n",
    "print(\"FPR: \", fpr)\n",
    "fnr = ((y_test == 1) & (et1_pred == 0)).sum() / (y_test == 1).sum()\n",
    "print(\"FNR: \", fnr)\n",
    "print(68 * '-')"
   ]
  },
  {
   "cell_type": "code",
   "execution_count": 159,
   "id": "09e10e4f-f56a-4b99-ad48-d64f6f7e7d07",
   "metadata": {},
   "outputs": [
    {
     "name": "stdout",
     "output_type": "stream",
     "text": [
      "ET1 DLL Tuned DLL Only Test\n",
      "Accuracy Score: 0.9480867005619481\n",
      "Precision Score: 0.9543401906673357\n",
      "Recall Score: 0.8649386084583902\n",
      "F1 Score: 0.9074427480916031\n",
      "--------------------------------------------------------------------\n",
      "[[15552   273]\n",
      " [  891  5706]]\n",
      "--------------------------------------------------------------------\n",
      "FPR:  0.01725118483412322\n",
      "FNR:  0.13506139154160982\n",
      "--------------------------------------------------------------------\n"
     ]
    }
   ],
   "source": [
    "et1_dll = load('ET1_DLL.joblib')\n",
    "predX = X_test_pd[mask]\n",
    "et1_dll_pred = et1_dll.predict(predX)\n",
    "print('ET1 DLL Tuned DLL Only Test')\n",
    "print(\"Accuracy Score:\", accuracy_score(y_test_pd[mask], et1_dll_pred))\n",
    "print(\"Precision Score:\", precision_score(y_test_pd[mask], et1_dll_pred))\n",
    "print(\"Recall Score:\",recall_score(y_test_pd[mask], et1_dll_pred))\n",
    "print(\"F1 Score:\",f1_score(y_test_pd[mask], et1_dll_pred))\n",
    "print(68 * '-')\n",
    "print(confusion_matrix(y_test[mask], et1_dll_pred))\n",
    "print(68 * '-')\n",
    "y_Series = pd.Series(np.array(y_test_pd[mask][0]))\n",
    "fpr = ((y_Series == 0) & (et1_dll_pred == 1)).sum() / (y_Series == 0).sum()\n",
    "print(\"FPR: \", fpr)\n",
    "fnr = ((y_Series == 1) & (et1_dll_pred == 0)).sum() / (y_Series == 1).sum()\n",
    "print(\"FNR: \", fnr)\n",
    "print(68 * '-')"
   ]
  },
  {
   "cell_type": "markdown",
   "id": "9543d8ea-9d94-496c-8a51-0a1373e6aded",
   "metadata": {
    "jp-MarkdownHeadingCollapsed": true
   },
   "source": [
    "## Sklearn Logistic Regression"
   ]
  },
  {
   "cell_type": "code",
   "execution_count": 160,
   "id": "5f1d79f3-565a-4a0c-8910-02087d9b5f1d",
   "metadata": {},
   "outputs": [
    {
     "name": "stdout",
     "output_type": "stream",
     "text": [
      "--------------------------------------------------------------------\n",
      "LR1 DLL Tuned Total Test\n",
      "Accuracy Score: 0.62176\n",
      "Precision Score: 0.5898756975405238\n",
      "Recall Score: 0.79914\n",
      "F1 Score: 0.6787443306324211\n",
      "--------------------------------------------------------------------\n",
      "[[44438 55562]\n",
      " [20086 79914]]\n",
      "--------------------------------------------------------------------\n",
      "FPR:  0.55562\n",
      "FNR:  0.20086\n",
      "--------------------------------------------------------------------\n"
     ]
    }
   ],
   "source": [
    "LR1 = load('LR1.joblib')\n",
    "LR1_pred = LR1.predict(X_test)\n",
    "print(68 * '-')\n",
    "print('LR1 DLL Tuned Total Test')\n",
    "print(\"Accuracy Score:\", accuracy_score(y_test, LR1_pred))\n",
    "print(\"Precision Score:\", precision_score(y_test, LR1_pred))\n",
    "print(\"Recall Score:\",recall_score(y_test, LR1_pred))\n",
    "print(\"F1 Score:\",f1_score(y_test, LR1_pred))\n",
    "print(68 * '-')\n",
    "print(confusion_matrix(y_test, LR1_pred))\n",
    "print(68 * '-')\n",
    "fpr = ((y_test == 0) & (LR1_pred == 1)).sum() / (y_test == 0).sum()\n",
    "print(\"FPR: \", fpr)\n",
    "fnr = ((y_test == 1) & (LR1_pred == 0)).sum() / (y_test == 1).sum()\n",
    "print(\"FNR: \", fnr)\n",
    "print(68 * '-')"
   ]
  },
  {
   "cell_type": "code",
   "execution_count": 161,
   "id": "d46de68a-258f-42ca-b3f6-b26ad4cfbaa3",
   "metadata": {},
   "outputs": [
    {
     "name": "stdout",
     "output_type": "stream",
     "text": [
      "LR1 DLL Tuned DLL Only Test\n",
      "Accuracy Score: 0.5121755418785122\n",
      "Precision Score: 0.3288114204590267\n",
      "Recall Score: 0.6319539184477793\n",
      "F1 Score: 0.43255862212077195\n",
      "--------------------------------------------------------------------\n",
      "[[7315 8510]\n",
      " [2428 4169]]\n",
      "--------------------------------------------------------------------\n",
      "FPR:  0.5377567140600316\n",
      "FNR:  0.3680460815522207\n",
      "--------------------------------------------------------------------\n"
     ]
    }
   ],
   "source": [
    "LR1_dll = load('LR1.joblib')\n",
    "predX = X_test_pd[mask]\n",
    "LR1_dll_pred = LR1_dll.predict(predX)\n",
    "print('LR1 DLL Tuned DLL Only Test')\n",
    "print(\"Accuracy Score:\", accuracy_score(y_test_pd[mask], LR1_dll_pred))\n",
    "print(\"Precision Score:\", precision_score(y_test_pd[mask], LR1_dll_pred))\n",
    "print(\"Recall Score:\",recall_score(y_test_pd[mask], LR1_dll_pred))\n",
    "print(\"F1 Score:\",f1_score(y_test_pd[mask], LR1_dll_pred))\n",
    "print(68 * '-')\n",
    "print(confusion_matrix(y_test[mask], LR1_dll_pred))\n",
    "print(68 * '-')\n",
    "y_Series = pd.Series(np.array(y_test_pd[mask][0]))\n",
    "fpr = ((y_Series == 0) & (LR1_dll_pred == 1)).sum() / (y_Series == 0).sum()\n",
    "print(\"FPR: \", fpr)\n",
    "fnr = ((y_Series == 1) & (LR1_dll_pred == 0)).sum() / (y_Series == 1).sum()\n",
    "print(\"FNR: \", fnr)\n",
    "print(68 * '-')"
   ]
  },
  {
   "cell_type": "markdown",
   "id": "c5361a3e-97b8-4949-8572-509e684ef5d4",
   "metadata": {},
   "source": [
    "## Sklearn Gradient Boosting Classifer"
   ]
  },
  {
   "cell_type": "code",
   "execution_count": 5,
   "id": "1da90ae7-5f64-48b4-b8e4-2f399a26bde1",
   "metadata": {},
   "outputs": [
    {
     "name": "stdout",
     "output_type": "stream",
     "text": [
      "--------------------------------------------------------------------\n",
      "gbc DLL Tuned Total Test\n",
      "Accuracy Score: 0.901675\n",
      "Precision Score: 0.8847130036682661\n",
      "Recall Score: 0.92372\n",
      "F1 Score: 0.903795821123336\n",
      "--------------------------------------------------------------------\n",
      "[[87963 12037]\n",
      " [ 7628 92372]]\n",
      "--------------------------------------------------------------------\n",
      "FPR:  0.12037\n",
      "FNR:  0.07628\n",
      "--------------------------------------------------------------------\n"
     ]
    }
   ],
   "source": [
    "gbc = load('gbc1_rf9.joblib')\n",
    "gbc_pred = gbc.predict(X_test)\n",
    "print(68 * '-')\n",
    "print('gbc DLL Tuned Total Test')\n",
    "print(\"Accuracy Score:\", accuracy_score(y_test, gbc_pred))\n",
    "print(\"Precision Score:\", precision_score(y_test, gbc_pred))\n",
    "print(\"Recall Score:\",recall_score(y_test, gbc_pred))\n",
    "print(\"F1 Score:\",f1_score(y_test, gbc_pred))\n",
    "print(68 * '-')\n",
    "print(confusion_matrix(y_test, gbc_pred))\n",
    "print(68 * '-')\n",
    "fpr = ((y_test == 0) & (gbc_pred == 1)).sum() / (y_test == 0).sum()\n",
    "print(\"FPR: \", fpr)\n",
    "fnr = ((y_test == 1) & (gbc_pred == 0)).sum() / (y_test == 1).sum()\n",
    "print(\"FNR: \", fnr)\n",
    "print(68 * '-')"
   ]
  },
  {
   "cell_type": "code",
   "execution_count": 6,
   "id": "0611756a-9ac2-4c42-9414-c92f19cec5b9",
   "metadata": {},
   "outputs": [
    {
     "name": "stdout",
     "output_type": "stream",
     "text": [
      "gbc DLL Tuned DLL Only Test\n",
      "Accuracy Score: 0.8841762554633842\n",
      "Precision Score: 0.810077519379845\n",
      "Recall Score: 0.792026678793391\n",
      "F1 Score: 0.8009504100559516\n",
      "--------------------------------------------------------------------\n",
      "[[14600  1225]\n",
      " [ 1372  5225]]\n",
      "--------------------------------------------------------------------\n",
      "FPR:  0.07740916271721959\n",
      "FNR:  0.20797332120660905\n",
      "--------------------------------------------------------------------\n"
     ]
    }
   ],
   "source": [
    "gbc = load('gbc1_rf9.joblib')\n",
    "predX = X_test_pd[mask]\n",
    "gbc_dll_pred = gbc.predict(predX)\n",
    "print('gbc DLL Tuned DLL Only Test')\n",
    "print(\"Accuracy Score:\", accuracy_score(y_test_pd[mask], gbc_dll_pred))\n",
    "print(\"Precision Score:\", precision_score(y_test_pd[mask], gbc_dll_pred))\n",
    "print(\"Recall Score:\",recall_score(y_test_pd[mask], gbc_dll_pred))\n",
    "print(\"F1 Score:\",f1_score(y_test_pd[mask], gbc_dll_pred))\n",
    "print(68 * '-')\n",
    "print(confusion_matrix(y_test[mask], gbc_dll_pred))\n",
    "print(68 * '-')\n",
    "y_Series = pd.Series(np.array(y_test_pd[mask][0]))\n",
    "fpr = ((y_Series == 0) & (gbc_dll_pred == 1)).sum() / (y_Series == 0).sum()\n",
    "print(\"FPR: \", fpr)\n",
    "fnr = ((y_Series == 1) & (gbc_dll_pred == 0)).sum() / (y_Series == 1).sum()\n",
    "print(\"FNR: \", fnr)\n",
    "print(68 * '-')"
   ]
  },
  {
   "cell_type": "code",
   "execution_count": 18,
   "id": "7891c253-1e85-408c-8771-33314bb2e2e1",
   "metadata": {},
   "outputs": [],
   "source": [
    "gbc_prob = gbc.predict_proba(X_test)"
   ]
  },
  {
   "cell_type": "code",
   "execution_count": 25,
   "id": "857edb25-2c2f-412f-9f70-cb2e3e70c6ee",
   "metadata": {},
   "outputs": [],
   "source": [
    "gbc_prob_rounded = np.where(gbc_prob[:, 1] >= 0.5, 1, 0)"
   ]
  },
  {
   "cell_type": "code",
   "execution_count": 26,
   "id": "f25a1b02-1848-4112-9954-61b30a271cd9",
   "metadata": {},
   "outputs": [
    {
     "name": "stdout",
     "output_type": "stream",
     "text": [
      "Accuracy Score: 0.901675\n",
      "Precision Score: 0.8847130036682661\n",
      "Recall Score: 0.92372\n",
      "F1 Score: 0.903795821123336\n",
      "--------------------------------------------------------------------\n",
      "[[87963 12037]\n",
      " [ 7628 92372]]\n",
      "--------------------------------------------------------------------\n",
      "FPR:  0.12037\n",
      "FNR:  0.07628\n",
      "--------------------------------------------------------------------\n"
     ]
    }
   ],
   "source": [
    "print(\"Accuracy Score:\", accuracy_score(y_test, gbc_prob_rounded))\n",
    "print(\"Precision Score:\", precision_score(y_test, gbc_prob_rounded))\n",
    "print(\"Recall Score:\",recall_score(y_test, gbc_prob_rounded))\n",
    "print(\"F1 Score:\",f1_score(y_test, gbc_prob_rounded))\n",
    "print(68 * '-')\n",
    "print(confusion_matrix(y_test, gbc_prob_rounded))\n",
    "print(68 * '-')\n",
    "fpr = ((y_test == 0) & (gbc_prob_rounded == 1)).sum() / (y_test == 0).sum()\n",
    "print(\"FPR: \", fpr)\n",
    "fnr = ((y_test == 1) & (gbc_prob_rounded == 0)).sum() / (y_test == 1).sum()\n",
    "print(\"FNR: \", fnr)\n",
    "print(68 * '-')"
   ]
  },
  {
   "cell_type": "code",
   "execution_count": null,
   "id": "3705cbf0-24a7-4a14-b2f9-b5a94e24f11d",
   "metadata": {},
   "outputs": [],
   "source": [
    "--------------------------------------------------------------------\n",
    "gbc DLL Tuned Total Test\n",
    "Accuracy Score: 0.901675\n",
    "Precision Score: 0.8847130036682661\n",
    "Recall Score: 0.92372\n",
    "F1 Score: 0.903795821123336\n",
    "--------------------------------------------------------------------\n",
    "[[87963 12037]\n",
    " [ 7628 92372]]\n",
    "--------------------------------------------------------------------\n",
    "FPR:  0.12037\n",
    "FNR:  0.07628"
   ]
  },
  {
   "cell_type": "markdown",
   "id": "1ea39407-d60a-4f59-949b-206fcc31401d",
   "metadata": {},
   "source": [
    "## Sklearn AdaBoost Classifier with a Random Forest Classifer"
   ]
  },
  {
   "cell_type": "code",
   "execution_count": 167,
   "id": "4c45999a-424e-4f01-87cd-44839ec52848",
   "metadata": {},
   "outputs": [
    {
     "name": "stdout",
     "output_type": "stream",
     "text": [
      "--------------------------------------------------------------------\n",
      "AdaBoost DLL Tuned Total Test\n",
      "Accuracy Score: 0.95125\n",
      "Precision Score: 0.9584662589153272\n",
      "Recall Score: 0.94338\n",
      "F1 Score: 0.9508632941247619\n",
      "--------------------------------------------------------------------\n",
      "[[95912  4088]\n",
      " [ 5662 94338]]\n",
      "--------------------------------------------------------------------\n",
      "FPR:  0.04088\n",
      "FNR:  0.05662\n",
      "--------------------------------------------------------------------\n"
     ]
    }
   ],
   "source": [
    "adaboost_clf = load('ADB_RF9.joblib')\n",
    "AB_pred = adaboost_clf.predict(X_test)\n",
    "print(68 * '-')\n",
    "print('AdaBoost DLL Tuned Total Test')\n",
    "print(\"Accuracy Score:\", accuracy_score(y_test, AB_pred))\n",
    "print(\"Precision Score:\", precision_score(y_test, AB_pred))\n",
    "print(\"Recall Score:\",recall_score(y_test, AB_pred))\n",
    "print(\"F1 Score:\",f1_score(y_test, AB_pred))\n",
    "print(68 * '-')\n",
    "print(confusion_matrix(y_test, AB_pred))\n",
    "print(68 * '-')\n",
    "fpr = ((y_test == 0) & (AB_pred == 1)).sum() / (y_test == 0).sum()\n",
    "print(\"FPR: \", fpr)\n",
    "fnr = ((y_test == 1) & (AB_pred == 0)).sum() / (y_test == 1).sum()\n",
    "print(\"FNR: \", fnr)\n",
    "print(68 * '-')"
   ]
  },
  {
   "cell_type": "code",
   "execution_count": 169,
   "id": "d7b31f9e-4610-4c3b-a3f9-aece29ca0c83",
   "metadata": {},
   "outputs": [
    {
     "name": "stdout",
     "output_type": "stream",
     "text": [
      "AdaBoost DLL Tuned DLL Only Test\n",
      "Accuracy Score: 0.9466595308179466\n",
      "Precision Score: 0.9464374276739957\n",
      "Recall Score: 0.8678187054721843\n",
      "F1 Score: 0.9054246402024355\n",
      "--------------------------------------------------------------------\n",
      "[[15501   324]\n",
      " [  872  5725]]\n",
      "--------------------------------------------------------------------\n",
      "FPR:  0.020473933649289098\n",
      "FNR:  0.13218129452781568\n",
      "--------------------------------------------------------------------\n"
     ]
    }
   ],
   "source": [
    "adaboost_clf = load('ADB_RF9.joblib')\n",
    "predX = X_test_pd[mask]\n",
    "AB_dll_pred = adaboost_clf.predict(predX)\n",
    "print('AdaBoost DLL Tuned DLL Only Test')\n",
    "print(\"Accuracy Score:\", accuracy_score(y_test_pd[mask], AB_dll_pred))\n",
    "print(\"Precision Score:\", precision_score(y_test_pd[mask], AB_dll_pred))\n",
    "print(\"Recall Score:\",recall_score(y_test_pd[mask], AB_dll_pred))\n",
    "print(\"F1 Score:\",f1_score(y_test_pd[mask], AB_dll_pred))\n",
    "print(68 * '-')\n",
    "print(confusion_matrix(y_test[mask], AB_dll_pred))\n",
    "print(68 * '-')\n",
    "y_Series = pd.Series(np.array(y_test_pd[mask][0]))\n",
    "fpr = ((y_Series == 0) & (AB_dll_pred == 1)).sum() / (y_Series == 0).sum()\n",
    "print(\"FPR: \", fpr)\n",
    "fnr = ((y_Series == 1) & (AB_dll_pred == 0)).sum() / (y_Series == 1).sum()\n",
    "print(\"FNR: \", fnr)\n",
    "print(68 * '-')"
   ]
  },
  {
   "cell_type": "markdown",
   "id": "d823ee3f-97b8-4f16-b69e-df79c7460bce",
   "metadata": {},
   "source": [
    "# Neural Network Models "
   ]
  },
  {
   "cell_type": "markdown",
   "id": "6286ef9b-ecc8-48f8-ac90-b8bff8aad8e3",
   "metadata": {},
   "source": [
    "## Tensor Flow Keras Squential with 8 Dense layers, adam optimizer, and 128 epochs"
   ]
  },
  {
   "cell_type": "code",
   "execution_count": 34,
   "id": "3db73492-0337-492e-a36a-6ca32aaa1db7",
   "metadata": {},
   "outputs": [],
   "source": [
    "model_seq = load('SeqNN_8D_128E.joblib') "
   ]
  },
  {
   "cell_type": "code",
   "execution_count": 39,
   "id": "c1beaa40-509a-43ae-8782-af863e4956eb",
   "metadata": {},
   "outputs": [
    {
     "data": {
      "text/html": [
       "<pre style=\"white-space:pre;overflow-x:auto;line-height:normal;font-family:Menlo,'DejaVu Sans Mono',consolas,'Courier New',monospace\"><span style=\"font-weight: bold\">Model: \"sequential_1\"</span>\n",
       "</pre>\n"
      ],
      "text/plain": [
       "\u001b[1mModel: \"sequential_1\"\u001b[0m\n"
      ]
     },
     "metadata": {},
     "output_type": "display_data"
    },
    {
     "data": {
      "text/html": [
       "<pre style=\"white-space:pre;overflow-x:auto;line-height:normal;font-family:Menlo,'DejaVu Sans Mono',consolas,'Courier New',monospace\">┏━━━━━━━━━━━━━━━━━━━━━━━━━━━━━━━━━┳━━━━━━━━━━━━━━━━━━━━━━━━┳━━━━━━━━━━━━━━━┓\n",
       "┃<span style=\"font-weight: bold\"> Layer (type)                    </span>┃<span style=\"font-weight: bold\"> Output Shape           </span>┃<span style=\"font-weight: bold\">       Param # </span>┃\n",
       "┡━━━━━━━━━━━━━━━━━━━━━━━━━━━━━━━━━╇━━━━━━━━━━━━━━━━━━━━━━━━╇━━━━━━━━━━━━━━━┩\n",
       "│ dense_7 (<span style=\"color: #0087ff; text-decoration-color: #0087ff\">Dense</span>)                 │ (<span style=\"color: #00d7ff; text-decoration-color: #00d7ff\">None</span>, <span style=\"color: #00af00; text-decoration-color: #00af00\">64</span>)             │       <span style=\"color: #00af00; text-decoration-color: #00af00\">152,448</span> │\n",
       "├─────────────────────────────────┼────────────────────────┼───────────────┤\n",
       "│ dense_8 (<span style=\"color: #0087ff; text-decoration-color: #0087ff\">Dense</span>)                 │ (<span style=\"color: #00d7ff; text-decoration-color: #00d7ff\">None</span>, <span style=\"color: #00af00; text-decoration-color: #00af00\">64</span>)             │         <span style=\"color: #00af00; text-decoration-color: #00af00\">4,160</span> │\n",
       "├─────────────────────────────────┼────────────────────────┼───────────────┤\n",
       "│ dense_9 (<span style=\"color: #0087ff; text-decoration-color: #0087ff\">Dense</span>)                 │ (<span style=\"color: #00d7ff; text-decoration-color: #00d7ff\">None</span>, <span style=\"color: #00af00; text-decoration-color: #00af00\">32</span>)             │         <span style=\"color: #00af00; text-decoration-color: #00af00\">2,080</span> │\n",
       "├─────────────────────────────────┼────────────────────────┼───────────────┤\n",
       "│ dense_10 (<span style=\"color: #0087ff; text-decoration-color: #0087ff\">Dense</span>)                │ (<span style=\"color: #00d7ff; text-decoration-color: #00d7ff\">None</span>, <span style=\"color: #00af00; text-decoration-color: #00af00\">16</span>)             │           <span style=\"color: #00af00; text-decoration-color: #00af00\">528</span> │\n",
       "├─────────────────────────────────┼────────────────────────┼───────────────┤\n",
       "│ dense_11 (<span style=\"color: #0087ff; text-decoration-color: #0087ff\">Dense</span>)                │ (<span style=\"color: #00d7ff; text-decoration-color: #00d7ff\">None</span>, <span style=\"color: #00af00; text-decoration-color: #00af00\">8</span>)              │           <span style=\"color: #00af00; text-decoration-color: #00af00\">136</span> │\n",
       "├─────────────────────────────────┼────────────────────────┼───────────────┤\n",
       "│ dense_12 (<span style=\"color: #0087ff; text-decoration-color: #0087ff\">Dense</span>)                │ (<span style=\"color: #00d7ff; text-decoration-color: #00d7ff\">None</span>, <span style=\"color: #00af00; text-decoration-color: #00af00\">4</span>)              │            <span style=\"color: #00af00; text-decoration-color: #00af00\">36</span> │\n",
       "├─────────────────────────────────┼────────────────────────┼───────────────┤\n",
       "│ dense_13 (<span style=\"color: #0087ff; text-decoration-color: #0087ff\">Dense</span>)                │ (<span style=\"color: #00d7ff; text-decoration-color: #00d7ff\">None</span>, <span style=\"color: #00af00; text-decoration-color: #00af00\">2</span>)              │            <span style=\"color: #00af00; text-decoration-color: #00af00\">10</span> │\n",
       "├─────────────────────────────────┼────────────────────────┼───────────────┤\n",
       "│ dense_14 (<span style=\"color: #0087ff; text-decoration-color: #0087ff\">Dense</span>)                │ (<span style=\"color: #00d7ff; text-decoration-color: #00d7ff\">None</span>, <span style=\"color: #00af00; text-decoration-color: #00af00\">1</span>)              │             <span style=\"color: #00af00; text-decoration-color: #00af00\">3</span> │\n",
       "└─────────────────────────────────┴────────────────────────┴───────────────┘\n",
       "</pre>\n"
      ],
      "text/plain": [
       "┏━━━━━━━━━━━━━━━━━━━━━━━━━━━━━━━━━┳━━━━━━━━━━━━━━━━━━━━━━━━┳━━━━━━━━━━━━━━━┓\n",
       "┃\u001b[1m \u001b[0m\u001b[1mLayer (type)                   \u001b[0m\u001b[1m \u001b[0m┃\u001b[1m \u001b[0m\u001b[1mOutput Shape          \u001b[0m\u001b[1m \u001b[0m┃\u001b[1m \u001b[0m\u001b[1m      Param #\u001b[0m\u001b[1m \u001b[0m┃\n",
       "┡━━━━━━━━━━━━━━━━━━━━━━━━━━━━━━━━━╇━━━━━━━━━━━━━━━━━━━━━━━━╇━━━━━━━━━━━━━━━┩\n",
       "│ dense_7 (\u001b[38;5;33mDense\u001b[0m)                 │ (\u001b[38;5;45mNone\u001b[0m, \u001b[38;5;34m64\u001b[0m)             │       \u001b[38;5;34m152,448\u001b[0m │\n",
       "├─────────────────────────────────┼────────────────────────┼───────────────┤\n",
       "│ dense_8 (\u001b[38;5;33mDense\u001b[0m)                 │ (\u001b[38;5;45mNone\u001b[0m, \u001b[38;5;34m64\u001b[0m)             │         \u001b[38;5;34m4,160\u001b[0m │\n",
       "├─────────────────────────────────┼────────────────────────┼───────────────┤\n",
       "│ dense_9 (\u001b[38;5;33mDense\u001b[0m)                 │ (\u001b[38;5;45mNone\u001b[0m, \u001b[38;5;34m32\u001b[0m)             │         \u001b[38;5;34m2,080\u001b[0m │\n",
       "├─────────────────────────────────┼────────────────────────┼───────────────┤\n",
       "│ dense_10 (\u001b[38;5;33mDense\u001b[0m)                │ (\u001b[38;5;45mNone\u001b[0m, \u001b[38;5;34m16\u001b[0m)             │           \u001b[38;5;34m528\u001b[0m │\n",
       "├─────────────────────────────────┼────────────────────────┼───────────────┤\n",
       "│ dense_11 (\u001b[38;5;33mDense\u001b[0m)                │ (\u001b[38;5;45mNone\u001b[0m, \u001b[38;5;34m8\u001b[0m)              │           \u001b[38;5;34m136\u001b[0m │\n",
       "├─────────────────────────────────┼────────────────────────┼───────────────┤\n",
       "│ dense_12 (\u001b[38;5;33mDense\u001b[0m)                │ (\u001b[38;5;45mNone\u001b[0m, \u001b[38;5;34m4\u001b[0m)              │            \u001b[38;5;34m36\u001b[0m │\n",
       "├─────────────────────────────────┼────────────────────────┼───────────────┤\n",
       "│ dense_13 (\u001b[38;5;33mDense\u001b[0m)                │ (\u001b[38;5;45mNone\u001b[0m, \u001b[38;5;34m2\u001b[0m)              │            \u001b[38;5;34m10\u001b[0m │\n",
       "├─────────────────────────────────┼────────────────────────┼───────────────┤\n",
       "│ dense_14 (\u001b[38;5;33mDense\u001b[0m)                │ (\u001b[38;5;45mNone\u001b[0m, \u001b[38;5;34m1\u001b[0m)              │             \u001b[38;5;34m3\u001b[0m │\n",
       "└─────────────────────────────────┴────────────────────────┴───────────────┘\n"
      ]
     },
     "metadata": {},
     "output_type": "display_data"
    },
    {
     "data": {
      "text/html": [
       "<pre style=\"white-space:pre;overflow-x:auto;line-height:normal;font-family:Menlo,'DejaVu Sans Mono',consolas,'Courier New',monospace\"><span style=\"font-weight: bold\"> Total params: </span><span style=\"color: #00af00; text-decoration-color: #00af00\">478,205</span> (1.82 MB)\n",
       "</pre>\n"
      ],
      "text/plain": [
       "\u001b[1m Total params: \u001b[0m\u001b[38;5;34m478,205\u001b[0m (1.82 MB)\n"
      ]
     },
     "metadata": {},
     "output_type": "display_data"
    },
    {
     "data": {
      "text/html": [
       "<pre style=\"white-space:pre;overflow-x:auto;line-height:normal;font-family:Menlo,'DejaVu Sans Mono',consolas,'Courier New',monospace\"><span style=\"font-weight: bold\"> Trainable params: </span><span style=\"color: #00af00; text-decoration-color: #00af00\">159,401</span> (622.66 KB)\n",
       "</pre>\n"
      ],
      "text/plain": [
       "\u001b[1m Trainable params: \u001b[0m\u001b[38;5;34m159,401\u001b[0m (622.66 KB)\n"
      ]
     },
     "metadata": {},
     "output_type": "display_data"
    },
    {
     "data": {
      "text/html": [
       "<pre style=\"white-space:pre;overflow-x:auto;line-height:normal;font-family:Menlo,'DejaVu Sans Mono',consolas,'Courier New',monospace\"><span style=\"font-weight: bold\"> Non-trainable params: </span><span style=\"color: #00af00; text-decoration-color: #00af00\">0</span> (0.00 B)\n",
       "</pre>\n"
      ],
      "text/plain": [
       "\u001b[1m Non-trainable params: \u001b[0m\u001b[38;5;34m0\u001b[0m (0.00 B)\n"
      ]
     },
     "metadata": {},
     "output_type": "display_data"
    },
    {
     "data": {
      "text/html": [
       "<pre style=\"white-space:pre;overflow-x:auto;line-height:normal;font-family:Menlo,'DejaVu Sans Mono',consolas,'Courier New',monospace\"><span style=\"font-weight: bold\"> Optimizer params: </span><span style=\"color: #00af00; text-decoration-color: #00af00\">318,804</span> (1.22 MB)\n",
       "</pre>\n"
      ],
      "text/plain": [
       "\u001b[1m Optimizer params: \u001b[0m\u001b[38;5;34m318,804\u001b[0m (1.22 MB)\n"
      ]
     },
     "metadata": {},
     "output_type": "display_data"
    }
   ],
   "source": [
    "model_seq.summary()"
   ]
  },
  {
   "cell_type": "code",
   "execution_count": 37,
   "id": "271252f4-eb17-4425-b064-ef7bbe3a7896",
   "metadata": {},
   "outputs": [
    {
     "name": "stdout",
     "output_type": "stream",
     "text": [
      "\u001b[1m6250/6250\u001b[0m \u001b[32m━━━━━━━━━━━━━━━━━━━━\u001b[0m\u001b[37m\u001b[0m \u001b[1m15s\u001b[0m 2ms/step\n"
     ]
    }
   ],
   "source": [
    "seq_pred_per = model_seq.predict(X_test_pd)"
   ]
  },
  {
   "cell_type": "code",
   "execution_count": 38,
   "id": "c2eb2081-fab1-4a69-82f8-4b5b1ea27d7b",
   "metadata": {},
   "outputs": [],
   "source": [
    "seq_pred_per = np.where(seq_pred_per >= 0.5, 1, 0)"
   ]
  },
  {
   "cell_type": "code",
   "execution_count": 170,
   "id": "33f0a0e0-1b48-497c-9885-307fe800f71d",
   "metadata": {},
   "outputs": [
    {
     "name": "stdout",
     "output_type": "stream",
     "text": [
      "--------------------------------------------------------------------\n",
      "Seq Basic Test\n",
      "Accuracy Score: 0.652775\n",
      "Precision Score: 0.7803879824545304\n",
      "Recall Score: 0.42521\n",
      "F1 Score: 0.5504799756613825\n",
      "--------------------------------------------------------------------\n",
      "[[88034 11966]\n",
      " [57479 42521]]\n",
      "--------------------------------------------------------------------\n",
      "FPR:  0.11966\n",
      "FNR:  0.57479\n",
      "--------------------------------------------------------------------\n"
     ]
    }
   ],
   "source": [
    "print(68 * '-')\n",
    "print('Seq Basic Test')\n",
    "print(\"Accuracy Score:\", accuracy_score(y_test, seq_pred_per))\n",
    "print(\"Precision Score:\", precision_score(y_test, seq_pred_per))\n",
    "print(\"Recall Score:\",recall_score(y_test, seq_pred_per))\n",
    "print(\"F1 Score:\",f1_score(y_test, seq_pred_per))\n",
    "print(68 * '-')\n",
    "print(confusion_matrix(y_test, seq_pred_per))\n",
    "print(68 * '-')\n",
    "fpr = ((y_test == 0) & (seq_pred_per.flatten() == 1)).sum() / (y_test == 0).sum()\n",
    "print(\"FPR: \", fpr)\n",
    "fnr = ((y_test == 1) & (seq_pred_per.flatten() == 0)).sum() / (y_test == 1).sum()\n",
    "print(\"FNR: \", fnr)\n",
    "print(68 * '-')"
   ]
  },
  {
   "cell_type": "markdown",
   "id": "73d1ddc3-025e-4fc8-87f9-6b612d72b071",
   "metadata": {},
   "source": [
    "## Tensor Flow Keras Squential with 9 Dense layers, adam optimizer, and 32 epochs"
   ]
  },
  {
   "cell_type": "code",
   "execution_count": 42,
   "id": "4d220f1f-79ad-463c-8dc4-1d8fc29b3dd0",
   "metadata": {},
   "outputs": [],
   "source": [
    "model_seq2 = load('SeqNN_9D_32E.joblib') "
   ]
  },
  {
   "cell_type": "code",
   "execution_count": 43,
   "id": "53636811-ff8a-4906-b1b5-9435215724db",
   "metadata": {},
   "outputs": [
    {
     "data": {
      "text/html": [
       "<pre style=\"white-space:pre;overflow-x:auto;line-height:normal;font-family:Menlo,'DejaVu Sans Mono',consolas,'Courier New',monospace\"><span style=\"font-weight: bold\">Model: \"sequential_4\"</span>\n",
       "</pre>\n"
      ],
      "text/plain": [
       "\u001b[1mModel: \"sequential_4\"\u001b[0m\n"
      ]
     },
     "metadata": {},
     "output_type": "display_data"
    },
    {
     "data": {
      "text/html": [
       "<pre style=\"white-space:pre;overflow-x:auto;line-height:normal;font-family:Menlo,'DejaVu Sans Mono',consolas,'Courier New',monospace\">┏━━━━━━━━━━━━━━━━━━━━━━━━━━━━━━━━━┳━━━━━━━━━━━━━━━━━━━━━━━━┳━━━━━━━━━━━━━━━┓\n",
       "┃<span style=\"font-weight: bold\"> Layer (type)                    </span>┃<span style=\"font-weight: bold\"> Output Shape           </span>┃<span style=\"font-weight: bold\">       Param # </span>┃\n",
       "┡━━━━━━━━━━━━━━━━━━━━━━━━━━━━━━━━━╇━━━━━━━━━━━━━━━━━━━━━━━━╇━━━━━━━━━━━━━━━┩\n",
       "│ dense_33 (<span style=\"color: #0087ff; text-decoration-color: #0087ff\">Dense</span>)                │ (<span style=\"color: #00d7ff; text-decoration-color: #00d7ff\">None</span>, <span style=\"color: #00af00; text-decoration-color: #00af00\">256</span>)            │       <span style=\"color: #00af00; text-decoration-color: #00af00\">609,792</span> │\n",
       "├─────────────────────────────────┼────────────────────────┼───────────────┤\n",
       "│ dense_34 (<span style=\"color: #0087ff; text-decoration-color: #0087ff\">Dense</span>)                │ (<span style=\"color: #00d7ff; text-decoration-color: #00d7ff\">None</span>, <span style=\"color: #00af00; text-decoration-color: #00af00\">128</span>)            │        <span style=\"color: #00af00; text-decoration-color: #00af00\">32,896</span> │\n",
       "├─────────────────────────────────┼────────────────────────┼───────────────┤\n",
       "│ dense_35 (<span style=\"color: #0087ff; text-decoration-color: #0087ff\">Dense</span>)                │ (<span style=\"color: #00d7ff; text-decoration-color: #00d7ff\">None</span>, <span style=\"color: #00af00; text-decoration-color: #00af00\">64</span>)             │         <span style=\"color: #00af00; text-decoration-color: #00af00\">8,256</span> │\n",
       "├─────────────────────────────────┼────────────────────────┼───────────────┤\n",
       "│ dense_36 (<span style=\"color: #0087ff; text-decoration-color: #0087ff\">Dense</span>)                │ (<span style=\"color: #00d7ff; text-decoration-color: #00d7ff\">None</span>, <span style=\"color: #00af00; text-decoration-color: #00af00\">32</span>)             │         <span style=\"color: #00af00; text-decoration-color: #00af00\">2,080</span> │\n",
       "├─────────────────────────────────┼────────────────────────┼───────────────┤\n",
       "│ dense_37 (<span style=\"color: #0087ff; text-decoration-color: #0087ff\">Dense</span>)                │ (<span style=\"color: #00d7ff; text-decoration-color: #00d7ff\">None</span>, <span style=\"color: #00af00; text-decoration-color: #00af00\">16</span>)             │           <span style=\"color: #00af00; text-decoration-color: #00af00\">528</span> │\n",
       "├─────────────────────────────────┼────────────────────────┼───────────────┤\n",
       "│ dense_38 (<span style=\"color: #0087ff; text-decoration-color: #0087ff\">Dense</span>)                │ (<span style=\"color: #00d7ff; text-decoration-color: #00d7ff\">None</span>, <span style=\"color: #00af00; text-decoration-color: #00af00\">8</span>)              │           <span style=\"color: #00af00; text-decoration-color: #00af00\">136</span> │\n",
       "├─────────────────────────────────┼────────────────────────┼───────────────┤\n",
       "│ dense_39 (<span style=\"color: #0087ff; text-decoration-color: #0087ff\">Dense</span>)                │ (<span style=\"color: #00d7ff; text-decoration-color: #00d7ff\">None</span>, <span style=\"color: #00af00; text-decoration-color: #00af00\">4</span>)              │            <span style=\"color: #00af00; text-decoration-color: #00af00\">36</span> │\n",
       "├─────────────────────────────────┼────────────────────────┼───────────────┤\n",
       "│ dense_40 (<span style=\"color: #0087ff; text-decoration-color: #0087ff\">Dense</span>)                │ (<span style=\"color: #00d7ff; text-decoration-color: #00d7ff\">None</span>, <span style=\"color: #00af00; text-decoration-color: #00af00\">2</span>)              │            <span style=\"color: #00af00; text-decoration-color: #00af00\">10</span> │\n",
       "├─────────────────────────────────┼────────────────────────┼───────────────┤\n",
       "│ dense_41 (<span style=\"color: #0087ff; text-decoration-color: #0087ff\">Dense</span>)                │ (<span style=\"color: #00d7ff; text-decoration-color: #00d7ff\">None</span>, <span style=\"color: #00af00; text-decoration-color: #00af00\">1</span>)              │             <span style=\"color: #00af00; text-decoration-color: #00af00\">3</span> │\n",
       "└─────────────────────────────────┴────────────────────────┴───────────────┘\n",
       "</pre>\n"
      ],
      "text/plain": [
       "┏━━━━━━━━━━━━━━━━━━━━━━━━━━━━━━━━━┳━━━━━━━━━━━━━━━━━━━━━━━━┳━━━━━━━━━━━━━━━┓\n",
       "┃\u001b[1m \u001b[0m\u001b[1mLayer (type)                   \u001b[0m\u001b[1m \u001b[0m┃\u001b[1m \u001b[0m\u001b[1mOutput Shape          \u001b[0m\u001b[1m \u001b[0m┃\u001b[1m \u001b[0m\u001b[1m      Param #\u001b[0m\u001b[1m \u001b[0m┃\n",
       "┡━━━━━━━━━━━━━━━━━━━━━━━━━━━━━━━━━╇━━━━━━━━━━━━━━━━━━━━━━━━╇━━━━━━━━━━━━━━━┩\n",
       "│ dense_33 (\u001b[38;5;33mDense\u001b[0m)                │ (\u001b[38;5;45mNone\u001b[0m, \u001b[38;5;34m256\u001b[0m)            │       \u001b[38;5;34m609,792\u001b[0m │\n",
       "├─────────────────────────────────┼────────────────────────┼───────────────┤\n",
       "│ dense_34 (\u001b[38;5;33mDense\u001b[0m)                │ (\u001b[38;5;45mNone\u001b[0m, \u001b[38;5;34m128\u001b[0m)            │        \u001b[38;5;34m32,896\u001b[0m │\n",
       "├─────────────────────────────────┼────────────────────────┼───────────────┤\n",
       "│ dense_35 (\u001b[38;5;33mDense\u001b[0m)                │ (\u001b[38;5;45mNone\u001b[0m, \u001b[38;5;34m64\u001b[0m)             │         \u001b[38;5;34m8,256\u001b[0m │\n",
       "├─────────────────────────────────┼────────────────────────┼───────────────┤\n",
       "│ dense_36 (\u001b[38;5;33mDense\u001b[0m)                │ (\u001b[38;5;45mNone\u001b[0m, \u001b[38;5;34m32\u001b[0m)             │         \u001b[38;5;34m2,080\u001b[0m │\n",
       "├─────────────────────────────────┼────────────────────────┼───────────────┤\n",
       "│ dense_37 (\u001b[38;5;33mDense\u001b[0m)                │ (\u001b[38;5;45mNone\u001b[0m, \u001b[38;5;34m16\u001b[0m)             │           \u001b[38;5;34m528\u001b[0m │\n",
       "├─────────────────────────────────┼────────────────────────┼───────────────┤\n",
       "│ dense_38 (\u001b[38;5;33mDense\u001b[0m)                │ (\u001b[38;5;45mNone\u001b[0m, \u001b[38;5;34m8\u001b[0m)              │           \u001b[38;5;34m136\u001b[0m │\n",
       "├─────────────────────────────────┼────────────────────────┼───────────────┤\n",
       "│ dense_39 (\u001b[38;5;33mDense\u001b[0m)                │ (\u001b[38;5;45mNone\u001b[0m, \u001b[38;5;34m4\u001b[0m)              │            \u001b[38;5;34m36\u001b[0m │\n",
       "├─────────────────────────────────┼────────────────────────┼───────────────┤\n",
       "│ dense_40 (\u001b[38;5;33mDense\u001b[0m)                │ (\u001b[38;5;45mNone\u001b[0m, \u001b[38;5;34m2\u001b[0m)              │            \u001b[38;5;34m10\u001b[0m │\n",
       "├─────────────────────────────────┼────────────────────────┼───────────────┤\n",
       "│ dense_41 (\u001b[38;5;33mDense\u001b[0m)                │ (\u001b[38;5;45mNone\u001b[0m, \u001b[38;5;34m1\u001b[0m)              │             \u001b[38;5;34m3\u001b[0m │\n",
       "└─────────────────────────────────┴────────────────────────┴───────────────┘\n"
      ]
     },
     "metadata": {},
     "output_type": "display_data"
    },
    {
     "data": {
      "text/html": [
       "<pre style=\"white-space:pre;overflow-x:auto;line-height:normal;font-family:Menlo,'DejaVu Sans Mono',consolas,'Courier New',monospace\"><span style=\"font-weight: bold\"> Total params: </span><span style=\"color: #00af00; text-decoration-color: #00af00\">1,961,213</span> (7.48 MB)\n",
       "</pre>\n"
      ],
      "text/plain": [
       "\u001b[1m Total params: \u001b[0m\u001b[38;5;34m1,961,213\u001b[0m (7.48 MB)\n"
      ]
     },
     "metadata": {},
     "output_type": "display_data"
    },
    {
     "data": {
      "text/html": [
       "<pre style=\"white-space:pre;overflow-x:auto;line-height:normal;font-family:Menlo,'DejaVu Sans Mono',consolas,'Courier New',monospace\"><span style=\"font-weight: bold\"> Trainable params: </span><span style=\"color: #00af00; text-decoration-color: #00af00\">653,737</span> (2.49 MB)\n",
       "</pre>\n"
      ],
      "text/plain": [
       "\u001b[1m Trainable params: \u001b[0m\u001b[38;5;34m653,737\u001b[0m (2.49 MB)\n"
      ]
     },
     "metadata": {},
     "output_type": "display_data"
    },
    {
     "data": {
      "text/html": [
       "<pre style=\"white-space:pre;overflow-x:auto;line-height:normal;font-family:Menlo,'DejaVu Sans Mono',consolas,'Courier New',monospace\"><span style=\"font-weight: bold\"> Non-trainable params: </span><span style=\"color: #00af00; text-decoration-color: #00af00\">0</span> (0.00 B)\n",
       "</pre>\n"
      ],
      "text/plain": [
       "\u001b[1m Non-trainable params: \u001b[0m\u001b[38;5;34m0\u001b[0m (0.00 B)\n"
      ]
     },
     "metadata": {},
     "output_type": "display_data"
    },
    {
     "data": {
      "text/html": [
       "<pre style=\"white-space:pre;overflow-x:auto;line-height:normal;font-family:Menlo,'DejaVu Sans Mono',consolas,'Courier New',monospace\"><span style=\"font-weight: bold\"> Optimizer params: </span><span style=\"color: #00af00; text-decoration-color: #00af00\">1,307,476</span> (4.99 MB)\n",
       "</pre>\n"
      ],
      "text/plain": [
       "\u001b[1m Optimizer params: \u001b[0m\u001b[38;5;34m1,307,476\u001b[0m (4.99 MB)\n"
      ]
     },
     "metadata": {},
     "output_type": "display_data"
    }
   ],
   "source": [
    "model_seq2.summary()"
   ]
  },
  {
   "cell_type": "code",
   "execution_count": 52,
   "id": "468c2868-b5b7-4df6-9b81-0d480f8acb62",
   "metadata": {},
   "outputs": [
    {
     "name": "stdout",
     "output_type": "stream",
     "text": [
      "\u001b[1m6250/6250\u001b[0m \u001b[32m━━━━━━━━━━━━━━━━━━━━\u001b[0m\u001b[37m\u001b[0m \u001b[1m48s\u001b[0m 8ms/step\n"
     ]
    }
   ],
   "source": [
    "seq_pred_per2 = model_seq2.predict(X_test_pd)"
   ]
  },
  {
   "cell_type": "code",
   "execution_count": 79,
   "id": "658e87c2-b234-4464-81c0-5b48653cfb61",
   "metadata": {},
   "outputs": [
    {
     "data": {
      "text/plain": [
       "array([1, 1, 1, ..., 0, 1, 1])"
      ]
     },
     "execution_count": 79,
     "metadata": {},
     "output_type": "execute_result"
    }
   ],
   "source": [
    "seq_pred_rounded2.flatten()"
   ]
  },
  {
   "cell_type": "code",
   "execution_count": 57,
   "id": "b0cd6710-7574-46f8-b28f-3ebfaade67bd",
   "metadata": {},
   "outputs": [],
   "source": [
    "seq_pred_rounded2 = np.where(seq_pred_per2 >= 0.45, 1, 0)"
   ]
  },
  {
   "cell_type": "code",
   "execution_count": 171,
   "id": "c2a3c49c-5158-4c9a-b5f8-dde48a01d291",
   "metadata": {},
   "outputs": [
    {
     "name": "stdout",
     "output_type": "stream",
     "text": [
      "--------------------------------------------------------------------\n",
      "Seq2 Basic Test\n",
      "Accuracy Score: 0.60608\n",
      "Precision Score: 0.5749417167078771\n",
      "Recall Score: 0.81383\n",
      "F1 Score: 0.6738397847236597\n",
      "--------------------------------------------------------------------\n",
      "[[39833 60167]\n",
      " [18617 81383]]\n",
      "--------------------------------------------------------------------\n",
      "FPR:  0.60167\n",
      "FNR:  0.18617\n",
      "--------------------------------------------------------------------\n"
     ]
    }
   ],
   "source": [
    "print(68 * '-')\n",
    "print('Seq2 Basic Test')\n",
    "print(\"Accuracy Score:\", accuracy_score(y_test, seq_pred_rounded2))\n",
    "print(\"Precision Score:\", precision_score(y_test, seq_pred_rounded2))\n",
    "print(\"Recall Score:\",recall_score(y_test, seq_pred_rounded2))\n",
    "print(\"F1 Score:\",f1_score(y_test, seq_pred_rounded2))\n",
    "print(68 * '-')\n",
    "print(confusion_matrix(y_test, seq_pred_rounded2))\n",
    "print(68 * '-')\n",
    "fpr = ((y_test == 0) & (seq_pred_rounded2.flatten() == 1)).sum() / (y_test == 0).sum()\n",
    "print(\"FPR: \", fpr)\n",
    "fnr = ((y_test == 1) & (seq_pred_rounded2.flatten() == 0)).sum() / (y_test == 1).sum()\n",
    "print(\"FNR: \", fnr)\n",
    "print(68 * '-')"
   ]
  },
  {
   "cell_type": "markdown",
   "id": "c2cfdf98-da14-4c8c-90d2-b37ddef01791",
   "metadata": {},
   "source": [
    "## Tensor Flow Convolutional Neural Network"
   ]
  },
  {
   "cell_type": "code",
   "execution_count": 59,
   "id": "55504f3a-26e2-4bbc-982c-13fe2556043b",
   "metadata": {},
   "outputs": [],
   "source": [
    "model_conv = load('ConvNN.joblib') "
   ]
  },
  {
   "cell_type": "code",
   "execution_count": 60,
   "id": "33e0290c-71dd-4a08-8fea-0afebaf14c46",
   "metadata": {},
   "outputs": [
    {
     "data": {
      "text/html": [
       "<pre style=\"white-space:pre;overflow-x:auto;line-height:normal;font-family:Menlo,'DejaVu Sans Mono',consolas,'Courier New',monospace\"><span style=\"font-weight: bold\">Model: \"sequential_9\"</span>\n",
       "</pre>\n"
      ],
      "text/plain": [
       "\u001b[1mModel: \"sequential_9\"\u001b[0m\n"
      ]
     },
     "metadata": {},
     "output_type": "display_data"
    },
    {
     "data": {
      "text/html": [
       "<pre style=\"white-space:pre;overflow-x:auto;line-height:normal;font-family:Menlo,'DejaVu Sans Mono',consolas,'Courier New',monospace\">┏━━━━━━━━━━━━━━━━━━━━━━━━━━━━━━━━━┳━━━━━━━━━━━━━━━━━━━━━━━━┳━━━━━━━━━━━━━━━┓\n",
       "┃<span style=\"font-weight: bold\"> Layer (type)                    </span>┃<span style=\"font-weight: bold\"> Output Shape           </span>┃<span style=\"font-weight: bold\">       Param # </span>┃\n",
       "┡━━━━━━━━━━━━━━━━━━━━━━━━━━━━━━━━━╇━━━━━━━━━━━━━━━━━━━━━━━━╇━━━━━━━━━━━━━━━┩\n",
       "│ conv1d_4 (<span style=\"color: #0087ff; text-decoration-color: #0087ff\">Conv1D</span>)               │ (<span style=\"color: #00d7ff; text-decoration-color: #00d7ff\">None</span>, <span style=\"color: #00af00; text-decoration-color: #00af00\">2374</span>, <span style=\"color: #00af00; text-decoration-color: #00af00\">64</span>)       │           <span style=\"color: #00af00; text-decoration-color: #00af00\">576</span> │\n",
       "├─────────────────────────────────┼────────────────────────┼───────────────┤\n",
       "│ flatten_2 (<span style=\"color: #0087ff; text-decoration-color: #0087ff\">Flatten</span>)             │ (<span style=\"color: #00d7ff; text-decoration-color: #00d7ff\">None</span>, <span style=\"color: #00af00; text-decoration-color: #00af00\">151936</span>)         │             <span style=\"color: #00af00; text-decoration-color: #00af00\">0</span> │\n",
       "├─────────────────────────────────┼────────────────────────┼───────────────┤\n",
       "│ dense_43 (<span style=\"color: #0087ff; text-decoration-color: #0087ff\">Dense</span>)                │ (<span style=\"color: #00d7ff; text-decoration-color: #00d7ff\">None</span>, <span style=\"color: #00af00; text-decoration-color: #00af00\">1</span>)              │       <span style=\"color: #00af00; text-decoration-color: #00af00\">151,937</span> │\n",
       "└─────────────────────────────────┴────────────────────────┴───────────────┘\n",
       "</pre>\n"
      ],
      "text/plain": [
       "┏━━━━━━━━━━━━━━━━━━━━━━━━━━━━━━━━━┳━━━━━━━━━━━━━━━━━━━━━━━━┳━━━━━━━━━━━━━━━┓\n",
       "┃\u001b[1m \u001b[0m\u001b[1mLayer (type)                   \u001b[0m\u001b[1m \u001b[0m┃\u001b[1m \u001b[0m\u001b[1mOutput Shape          \u001b[0m\u001b[1m \u001b[0m┃\u001b[1m \u001b[0m\u001b[1m      Param #\u001b[0m\u001b[1m \u001b[0m┃\n",
       "┡━━━━━━━━━━━━━━━━━━━━━━━━━━━━━━━━━╇━━━━━━━━━━━━━━━━━━━━━━━━╇━━━━━━━━━━━━━━━┩\n",
       "│ conv1d_4 (\u001b[38;5;33mConv1D\u001b[0m)               │ (\u001b[38;5;45mNone\u001b[0m, \u001b[38;5;34m2374\u001b[0m, \u001b[38;5;34m64\u001b[0m)       │           \u001b[38;5;34m576\u001b[0m │\n",
       "├─────────────────────────────────┼────────────────────────┼───────────────┤\n",
       "│ flatten_2 (\u001b[38;5;33mFlatten\u001b[0m)             │ (\u001b[38;5;45mNone\u001b[0m, \u001b[38;5;34m151936\u001b[0m)         │             \u001b[38;5;34m0\u001b[0m │\n",
       "├─────────────────────────────────┼────────────────────────┼───────────────┤\n",
       "│ dense_43 (\u001b[38;5;33mDense\u001b[0m)                │ (\u001b[38;5;45mNone\u001b[0m, \u001b[38;5;34m1\u001b[0m)              │       \u001b[38;5;34m151,937\u001b[0m │\n",
       "└─────────────────────────────────┴────────────────────────┴───────────────┘\n"
      ]
     },
     "metadata": {},
     "output_type": "display_data"
    },
    {
     "data": {
      "text/html": [
       "<pre style=\"white-space:pre;overflow-x:auto;line-height:normal;font-family:Menlo,'DejaVu Sans Mono',consolas,'Courier New',monospace\"><span style=\"font-weight: bold\"> Total params: </span><span style=\"color: #00af00; text-decoration-color: #00af00\">457,541</span> (1.75 MB)\n",
       "</pre>\n"
      ],
      "text/plain": [
       "\u001b[1m Total params: \u001b[0m\u001b[38;5;34m457,541\u001b[0m (1.75 MB)\n"
      ]
     },
     "metadata": {},
     "output_type": "display_data"
    },
    {
     "data": {
      "text/html": [
       "<pre style=\"white-space:pre;overflow-x:auto;line-height:normal;font-family:Menlo,'DejaVu Sans Mono',consolas,'Courier New',monospace\"><span style=\"font-weight: bold\"> Trainable params: </span><span style=\"color: #00af00; text-decoration-color: #00af00\">152,513</span> (595.75 KB)\n",
       "</pre>\n"
      ],
      "text/plain": [
       "\u001b[1m Trainable params: \u001b[0m\u001b[38;5;34m152,513\u001b[0m (595.75 KB)\n"
      ]
     },
     "metadata": {},
     "output_type": "display_data"
    },
    {
     "data": {
      "text/html": [
       "<pre style=\"white-space:pre;overflow-x:auto;line-height:normal;font-family:Menlo,'DejaVu Sans Mono',consolas,'Courier New',monospace\"><span style=\"font-weight: bold\"> Non-trainable params: </span><span style=\"color: #00af00; text-decoration-color: #00af00\">0</span> (0.00 B)\n",
       "</pre>\n"
      ],
      "text/plain": [
       "\u001b[1m Non-trainable params: \u001b[0m\u001b[38;5;34m0\u001b[0m (0.00 B)\n"
      ]
     },
     "metadata": {},
     "output_type": "display_data"
    },
    {
     "data": {
      "text/html": [
       "<pre style=\"white-space:pre;overflow-x:auto;line-height:normal;font-family:Menlo,'DejaVu Sans Mono',consolas,'Courier New',monospace\"><span style=\"font-weight: bold\"> Optimizer params: </span><span style=\"color: #00af00; text-decoration-color: #00af00\">305,028</span> (1.16 MB)\n",
       "</pre>\n"
      ],
      "text/plain": [
       "\u001b[1m Optimizer params: \u001b[0m\u001b[38;5;34m305,028\u001b[0m (1.16 MB)\n"
      ]
     },
     "metadata": {},
     "output_type": "display_data"
    }
   ],
   "source": [
    "model_conv.summary()"
   ]
  },
  {
   "cell_type": "code",
   "execution_count": 61,
   "id": "8ee76ea1-1e00-491b-951e-76c1960bece0",
   "metadata": {},
   "outputs": [
    {
     "name": "stdout",
     "output_type": "stream",
     "text": [
      "\u001b[1m6250/6250\u001b[0m \u001b[32m━━━━━━━━━━━━━━━━━━━━\u001b[0m\u001b[37m\u001b[0m \u001b[1m36s\u001b[0m 6ms/step\n"
     ]
    }
   ],
   "source": [
    "model_conv_pred = model_conv.predict(X_test_pd)"
   ]
  },
  {
   "cell_type": "code",
   "execution_count": 62,
   "id": "36170559-1461-4fe4-9aa3-3f979f04fa74",
   "metadata": {},
   "outputs": [],
   "source": [
    "model_conv_pred_rounded = np.where(model_conv_pred >= 0.5, 1, 0)"
   ]
  },
  {
   "cell_type": "code",
   "execution_count": 172,
   "id": "5cb28691-877d-401f-adfe-199a84c629cb",
   "metadata": {},
   "outputs": [
    {
     "name": "stdout",
     "output_type": "stream",
     "text": [
      "--------------------------------------------------------------------\n",
      "Seq Basic Test\n",
      "Accuracy Score: 0.64167\n",
      "Precision Score: 0.6191846280685814\n",
      "Recall Score: 0.736\n",
      "F1 Score: 0.672557638006817\n",
      "--------------------------------------------------------------------\n",
      "[[54734 45266]\n",
      " [26400 73600]]\n",
      "--------------------------------------------------------------------\n",
      "FPR:  0.45266\n",
      "FNR:  0.264\n",
      "--------------------------------------------------------------------\n"
     ]
    }
   ],
   "source": [
    "print(68 * '-')\n",
    "print('Seq Basic Test')\n",
    "print(\"Accuracy Score:\", accuracy_score(y_test, model_conv_pred_rounded))\n",
    "print(\"Precision Score:\", precision_score(y_test, model_conv_pred_rounded))\n",
    "print(\"Recall Score:\",recall_score(y_test, model_conv_pred_rounded))\n",
    "print(\"F1 Score:\",f1_score(y_test, model_conv_pred_rounded))\n",
    "print(68 * '-')\n",
    "print(confusion_matrix(y_test, model_conv_pred_rounded))\n",
    "print(68 * '-')\n",
    "fpr = ((y_test == 0) & (model_conv_pred_rounded.flatten() == 1)).sum() / (y_test == 0).sum()\n",
    "print(\"FPR: \", fpr)\n",
    "fnr = ((y_test == 1) & (model_conv_pred_rounded.flatten() == 0)).sum() / (y_test == 1).sum()\n",
    "print(\"FNR: \", fnr)\n",
    "print(68 * '-')"
   ]
  },
  {
   "cell_type": "markdown",
   "id": "6ae0ea94-f059-4f1b-a744-530bb6d0fef6",
   "metadata": {},
   "source": [
    "## Tensor Flow Simple Recurrent Neural Network"
   ]
  },
  {
   "cell_type": "code",
   "execution_count": 5,
   "id": "bee2f0e8-9979-4233-bcfa-42f7aa80d616",
   "metadata": {},
   "outputs": [],
   "source": [
    "model_rnn = load('SimpleRNN_1.joblib') "
   ]
  },
  {
   "cell_type": "code",
   "execution_count": 6,
   "id": "799b249b-d5e3-4079-9e74-3a02ee537cb7",
   "metadata": {},
   "outputs": [
    {
     "data": {
      "text/html": [
       "<pre style=\"white-space:pre;overflow-x:auto;line-height:normal;font-family:Menlo,'DejaVu Sans Mono',consolas,'Courier New',monospace\"><span style=\"font-weight: bold\">Model: \"sequential\"</span>\n",
       "</pre>\n"
      ],
      "text/plain": [
       "\u001b[1mModel: \"sequential\"\u001b[0m\n"
      ]
     },
     "metadata": {},
     "output_type": "display_data"
    },
    {
     "data": {
      "text/html": [
       "<pre style=\"white-space:pre;overflow-x:auto;line-height:normal;font-family:Menlo,'DejaVu Sans Mono',consolas,'Courier New',monospace\">┏━━━━━━━━━━━━━━━━━━━━━━━━━━━━━━━━━┳━━━━━━━━━━━━━━━━━━━━━━━━┳━━━━━━━━━━━━━━━┓\n",
       "┃<span style=\"font-weight: bold\"> Layer (type)                    </span>┃<span style=\"font-weight: bold\"> Output Shape           </span>┃<span style=\"font-weight: bold\">       Param # </span>┃\n",
       "┡━━━━━━━━━━━━━━━━━━━━━━━━━━━━━━━━━╇━━━━━━━━━━━━━━━━━━━━━━━━╇━━━━━━━━━━━━━━━┩\n",
       "│ simple_rnn (<span style=\"color: #0087ff; text-decoration-color: #0087ff\">SimpleRNN</span>)          │ (<span style=\"color: #00d7ff; text-decoration-color: #00d7ff\">None</span>, <span style=\"color: #00af00; text-decoration-color: #00af00\">64</span>)             │         <span style=\"color: #00af00; text-decoration-color: #00af00\">4,224</span> │\n",
       "├─────────────────────────────────┼────────────────────────┼───────────────┤\n",
       "│ leaky_re_lu (<span style=\"color: #0087ff; text-decoration-color: #0087ff\">LeakyReLU</span>)         │ (<span style=\"color: #00d7ff; text-decoration-color: #00d7ff\">None</span>, <span style=\"color: #00af00; text-decoration-color: #00af00\">64</span>)             │             <span style=\"color: #00af00; text-decoration-color: #00af00\">0</span> │\n",
       "├─────────────────────────────────┼────────────────────────┼───────────────┤\n",
       "│ dropout (<span style=\"color: #0087ff; text-decoration-color: #0087ff\">Dropout</span>)               │ (<span style=\"color: #00d7ff; text-decoration-color: #00d7ff\">None</span>, <span style=\"color: #00af00; text-decoration-color: #00af00\">64</span>)             │             <span style=\"color: #00af00; text-decoration-color: #00af00\">0</span> │\n",
       "├─────────────────────────────────┼────────────────────────┼───────────────┤\n",
       "│ dense (<span style=\"color: #0087ff; text-decoration-color: #0087ff\">Dense</span>)                   │ (<span style=\"color: #00d7ff; text-decoration-color: #00d7ff\">None</span>, <span style=\"color: #00af00; text-decoration-color: #00af00\">1</span>)              │            <span style=\"color: #00af00; text-decoration-color: #00af00\">65</span> │\n",
       "└─────────────────────────────────┴────────────────────────┴───────────────┘\n",
       "</pre>\n"
      ],
      "text/plain": [
       "┏━━━━━━━━━━━━━━━━━━━━━━━━━━━━━━━━━┳━━━━━━━━━━━━━━━━━━━━━━━━┳━━━━━━━━━━━━━━━┓\n",
       "┃\u001b[1m \u001b[0m\u001b[1mLayer (type)                   \u001b[0m\u001b[1m \u001b[0m┃\u001b[1m \u001b[0m\u001b[1mOutput Shape          \u001b[0m\u001b[1m \u001b[0m┃\u001b[1m \u001b[0m\u001b[1m      Param #\u001b[0m\u001b[1m \u001b[0m┃\n",
       "┡━━━━━━━━━━━━━━━━━━━━━━━━━━━━━━━━━╇━━━━━━━━━━━━━━━━━━━━━━━━╇━━━━━━━━━━━━━━━┩\n",
       "│ simple_rnn (\u001b[38;5;33mSimpleRNN\u001b[0m)          │ (\u001b[38;5;45mNone\u001b[0m, \u001b[38;5;34m64\u001b[0m)             │         \u001b[38;5;34m4,224\u001b[0m │\n",
       "├─────────────────────────────────┼────────────────────────┼───────────────┤\n",
       "│ leaky_re_lu (\u001b[38;5;33mLeakyReLU\u001b[0m)         │ (\u001b[38;5;45mNone\u001b[0m, \u001b[38;5;34m64\u001b[0m)             │             \u001b[38;5;34m0\u001b[0m │\n",
       "├─────────────────────────────────┼────────────────────────┼───────────────┤\n",
       "│ dropout (\u001b[38;5;33mDropout\u001b[0m)               │ (\u001b[38;5;45mNone\u001b[0m, \u001b[38;5;34m64\u001b[0m)             │             \u001b[38;5;34m0\u001b[0m │\n",
       "├─────────────────────────────────┼────────────────────────┼───────────────┤\n",
       "│ dense (\u001b[38;5;33mDense\u001b[0m)                   │ (\u001b[38;5;45mNone\u001b[0m, \u001b[38;5;34m1\u001b[0m)              │            \u001b[38;5;34m65\u001b[0m │\n",
       "└─────────────────────────────────┴────────────────────────┴───────────────┘\n"
      ]
     },
     "metadata": {},
     "output_type": "display_data"
    },
    {
     "data": {
      "text/html": [
       "<pre style=\"white-space:pre;overflow-x:auto;line-height:normal;font-family:Menlo,'DejaVu Sans Mono',consolas,'Courier New',monospace\"><span style=\"font-weight: bold\"> Total params: </span><span style=\"color: #00af00; text-decoration-color: #00af00\">12,869</span> (50.27 KB)\n",
       "</pre>\n"
      ],
      "text/plain": [
       "\u001b[1m Total params: \u001b[0m\u001b[38;5;34m12,869\u001b[0m (50.27 KB)\n"
      ]
     },
     "metadata": {},
     "output_type": "display_data"
    },
    {
     "data": {
      "text/html": [
       "<pre style=\"white-space:pre;overflow-x:auto;line-height:normal;font-family:Menlo,'DejaVu Sans Mono',consolas,'Courier New',monospace\"><span style=\"font-weight: bold\"> Trainable params: </span><span style=\"color: #00af00; text-decoration-color: #00af00\">4,289</span> (16.75 KB)\n",
       "</pre>\n"
      ],
      "text/plain": [
       "\u001b[1m Trainable params: \u001b[0m\u001b[38;5;34m4,289\u001b[0m (16.75 KB)\n"
      ]
     },
     "metadata": {},
     "output_type": "display_data"
    },
    {
     "data": {
      "text/html": [
       "<pre style=\"white-space:pre;overflow-x:auto;line-height:normal;font-family:Menlo,'DejaVu Sans Mono',consolas,'Courier New',monospace\"><span style=\"font-weight: bold\"> Non-trainable params: </span><span style=\"color: #00af00; text-decoration-color: #00af00\">0</span> (0.00 B)\n",
       "</pre>\n"
      ],
      "text/plain": [
       "\u001b[1m Non-trainable params: \u001b[0m\u001b[38;5;34m0\u001b[0m (0.00 B)\n"
      ]
     },
     "metadata": {},
     "output_type": "display_data"
    },
    {
     "data": {
      "text/html": [
       "<pre style=\"white-space:pre;overflow-x:auto;line-height:normal;font-family:Menlo,'DejaVu Sans Mono',consolas,'Courier New',monospace\"><span style=\"font-weight: bold\"> Optimizer params: </span><span style=\"color: #00af00; text-decoration-color: #00af00\">8,580</span> (33.52 KB)\n",
       "</pre>\n"
      ],
      "text/plain": [
       "\u001b[1m Optimizer params: \u001b[0m\u001b[38;5;34m8,580\u001b[0m (33.52 KB)\n"
      ]
     },
     "metadata": {},
     "output_type": "display_data"
    }
   ],
   "source": [
    "model_rnn.summary()"
   ]
  },
  {
   "cell_type": "code",
   "execution_count": 8,
   "id": "905ba01f-3824-4434-a4d7-2811f09df3a6",
   "metadata": {},
   "outputs": [
    {
     "name": "stdout",
     "output_type": "stream",
     "text": [
      "\u001b[1m6250/6250\u001b[0m \u001b[32m━━━━━━━━━━━━━━━━━━━━\u001b[0m\u001b[37m\u001b[0m \u001b[1m300s\u001b[0m 48ms/step\n"
     ]
    }
   ],
   "source": [
    "model_rnn_pred = model_rnn.predict(X_test_pd)"
   ]
  },
  {
   "cell_type": "code",
   "execution_count": 9,
   "id": "e398f6b5-0b63-4690-95ab-1e842ebfff3a",
   "metadata": {},
   "outputs": [],
   "source": [
    "model_rnn_pred_rounded = np.where(model_rnn_pred >= 0.5, 1, 0)"
   ]
  },
  {
   "cell_type": "code",
   "execution_count": 11,
   "id": "84872923-b464-4cb7-a1fa-cd982e68f349",
   "metadata": {},
   "outputs": [
    {
     "name": "stdout",
     "output_type": "stream",
     "text": [
      "--------------------------------------------------------------------\n",
      "Seq Basic Test\n",
      "Accuracy Score: 0.638275\n",
      "Precision Score: 0.5874333697968371\n",
      "Recall Score: 0.92902\n",
      "F1 Score: 0.7197548702493521\n",
      "--------------------------------------------------------------------\n",
      "[[34753 65247]\n",
      " [ 7098 92902]]\n",
      "--------------------------------------------------------------------\n",
      "FPR:  0.65247\n",
      "FNR:  0.07098\n",
      "--------------------------------------------------------------------\n"
     ]
    }
   ],
   "source": [
    "print(68 * '-')\n",
    "print('Seq Basic Test')\n",
    "print(\"Accuracy Score:\", accuracy_score(y_test, model_rnn_pred_rounded))\n",
    "print(\"Precision Score:\", precision_score(y_test, model_rnn_pred_rounded))\n",
    "print(\"Recall Score:\",recall_score(y_test, model_rnn_pred_rounded))\n",
    "print(\"F1 Score:\",f1_score(y_test, model_rnn_pred_rounded))\n",
    "print(68 * '-')\n",
    "print(confusion_matrix(y_test, model_rnn_pred_rounded))\n",
    "print(68 * '-')\n",
    "fpr = ((y_test == 0) & (model_rnn_pred_rounded.flatten() == 1)).sum() / (y_test == 0).sum()\n",
    "print(\"FPR: \", fpr)\n",
    "fnr = ((y_test == 1) & (model_rnn_pred_rounded.flatten() == 0)).sum() / (y_test == 1).sum()\n",
    "print(\"FNR: \", fnr)\n",
    "print(68 * '-')"
   ]
  },
  {
   "cell_type": "code",
   "execution_count": null,
   "id": "dc3a0622-7e7b-4a27-8661-0f34d18c444d",
   "metadata": {},
   "outputs": [],
   "source": []
  }
 ],
 "metadata": {
  "kernelspec": {
   "display_name": "Python 3 (ipykernel)",
   "language": "python",
   "name": "python3"
  },
  "language_info": {
   "codemirror_mode": {
    "name": "ipython",
    "version": 3
   },
   "file_extension": ".py",
   "mimetype": "text/x-python",
   "name": "python",
   "nbconvert_exporter": "python",
   "pygments_lexer": "ipython3",
   "version": "3.11.5"
  }
 },
 "nbformat": 4,
 "nbformat_minor": 5
}
